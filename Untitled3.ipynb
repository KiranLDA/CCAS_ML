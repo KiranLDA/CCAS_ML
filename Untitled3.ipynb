{
 "cells": [
  {
   "cell_type": "code",
   "execution_count": 12,
   "metadata": {},
   "outputs": [],
   "source": [
    "import os\n",
    "os.list"
   ]
  },
  {
   "cell_type": "code",
   "execution_count": 17,
   "metadata": {},
   "outputs": [],
   "source": [
    "from distutils.dir_util import copy_tree\n",
    "#copy_tree(\"/a/b/c\", \"/x/y/z\")"
   ]
  },
  {
   "cell_type": "code",
   "execution_count": 18,
   "metadata": {},
   "outputs": [
    {
     "data": {
      "text/plain": [
       "['NoiseAugmented_0.3_0.8_NotWeighted_MaskedOther_Forked_trained_with_20190627']"
      ]
     },
     "execution_count": 18,
     "metadata": {},
     "output_type": "execute_result"
    }
   ],
   "source": [
    "runnfilelist[0:1]"
   ]
  },
  {
   "cell_type": "code",
   "execution_count": 24,
   "metadata": {},
   "outputs": [],
   "source": [
    "for name in names:    \n",
    "    source_dir = os.path.join(\"/media/kiran/D0-P1/animal_data/meerkat/sensitivity_analysis\", name)\n",
    "    dest_dir = os.path.join(\"/media/kiran/D0-P1/animal_data/meerkat/to_export\", name)\n",
    "    runnfilelist = os.listdir(source_dir)\n",
    "    for run in runnfilelist:\n",
    "        source_lab = os.path.join(source_dir, run,\"test_data\",\"label_table\")\n",
    "        source_metrics = os.path.join(source_dir, run,\"test_data\",\"metrics\")\n",
    "        source_pred = os.path.join(source_dir, run,\"test_data\",\"predictions\",\"pred_table\")\n",
    "        source_train = os.path.join(source_dir, run,\"trained_model\")\n",
    "\n",
    "        dest_lab = os.path.join(dest_dir, run,\"test_data\",\"label_table\")\n",
    "        dest_metrics = os.path.join(dest_dir, run,\"test_data\",\"metrics\")\n",
    "        dest_pred = os.path.join(dest_dir, run,\"test_data\",\"predictions\",\"pred_table\")\n",
    "        dest_train = os.path.join(dest_dir, run,\"trained_model\")\n",
    "\n",
    "        copy_tree(source_lab, dest_lab)\n",
    "        copy_tree(source_metrics, dest_metrics)\n",
    "        copy_tree(source_pred, dest_pred)\n",
    "        copy_tree(source_train, dest_train)"
   ]
  }
 ],
 "metadata": {
  "kernelspec": {
   "display_name": "ML1_env",
   "language": "python",
   "name": "ml1_env"
  },
  "language_info": {
   "codemirror_mode": {
    "name": "ipython",
    "version": 3
   },
   "file_extension": ".py",
   "mimetype": "text/x-python",
   "name": "python",
   "nbconvert_exporter": "python",
   "pygments_lexer": "ipython3",
   "version": "3.7.7"
  }
 },
 "nbformat": 4,
 "nbformat_minor": 4
}
